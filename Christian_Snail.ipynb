{
 "cells": [
  {
   "cell_type": "markdown",
   "metadata": {},
   "source": [
    "# 01 - Caracol y el pozo\n",
    "\n",
    "A snail 🐌 falls to the bottom of a 125 cm well. Every day the snail climbs 30 cm. but at night while sleeping he slips 20 cm because the walls are wet. How many days does it take to escape from the well?\n"
   ]
  },
  {
   "cell_type": "markdown",
   "metadata": {},
   "source": [
    "### Objectives\n",
    "\n",
    "1. Treatment of variables\n",
    "2. Using **while** loop\n",
    "3. Use of **if-else** conditionals\n",
    "4. Print by console"
   ]
  },
  {
   "cell_type": "markdown",
   "metadata": {},
   "source": [
    "## Here are 3 different types of solutions:"
   ]
  },
  {
   "cell_type": "markdown",
   "metadata": {},
   "source": [
    "### Solución 1"
   ]
  },
  {
   "cell_type": "code",
   "execution_count": 7,
   "metadata": {},
   "outputs": [
    {
     "name": "stdout",
     "output_type": "stream",
     "text": [
      "The Snail takes  13 days to climb the well\n"
     ]
    }
   ],
   "source": [
    "# Assign the problem data to variables with representative names\n",
    "# hole height, daily advance, night retreat, accumulated distance\n",
    "total_distance=125\n",
    "traveled=0\n",
    "day_time=30\n",
    "night_time=20\n",
    "distance_day=day_time-night_time\n",
    "# Assign 0 to the variable that represents the solution\n",
    "days=0\n",
    "# Writing the code that solves the problem\n",
    "while (traveled<125):\n",
    "    traveled=traveled+distance_day\n",
    "    days+=1\n",
    "# Printing the result with print('Days =', days)\n",
    "print(\"The Snail takes \",days,\"days to climb the well\")"
   ]
  },
  {
   "cell_type": "markdown",
   "metadata": {},
   "source": [
    "### Solución 2"
   ]
  },
  {
   "cell_type": "code",
   "execution_count": 8,
   "metadata": {},
   "outputs": [
    {
     "name": "stdout",
     "output_type": "stream",
     "text": [
      "The Snail takes  13 days to climb the well\n"
     ]
    }
   ],
   "source": [
    "# Assign the problem data to variables with representative names\n",
    "# hole height, daily advance, night retreat, accumulated distance\n",
    "total_distance=125\n",
    "traveled=0\n",
    "day_time=30\n",
    "night_time=20\n",
    "distance_day=day_time-night_time\n",
    "# Assign 0 to the variable that represents the solution\n",
    "days=0\n",
    "# Writing the code that solves the problem\n",
    "while (1):\n",
    "    if traveled<total_distance:\n",
    "        traveled=traveled+distance_day\n",
    "        days=days+1\n",
    "    else: \n",
    "        break\n",
    "# Printing the result with print('Days =', days)\n",
    "print(\"The Snail takes \",days,\"days to climb the well\")"
   ]
  },
  {
   "cell_type": "markdown",
   "metadata": {},
   "source": [
    "### Bonus Solution\n",
    "The distance traveled by the snail is now defined by a list.. \n",
    "```\n",
    "avance_cm = [30, 21, 33, 77, 44, 45, 23, 45, 12, 34, 55]\n",
    "```\n",
    "- How long does it take to climb the well?\n",
    "- What is your maximum displacement in a day? And its minimum?\n",
    "- What is your average speed during the day?\n",
    "- What is the standard deviation of its displacement during the day?"
   ]
  },
  {
   "cell_type": "code",
   "execution_count": 9,
   "metadata": {},
   "outputs": [
    {
     "name": "stdout",
     "output_type": "stream",
     "text": [
      "The Snail takes  11 days to climb the well\n",
      "\n",
      "The maximum movement in one day has been: 57 cm\n",
      "The minimum displacement in one day has been: -8 cm\n",
      "The average progress each day is : 18.09090909090909 cm\n",
      "The standard deviation of the list is: 17.159437082600803\n"
     ]
    }
   ],
   "source": [
    "# Assign the problem data to variables with representative names\n",
    "# hole height, daily advance, night retreat, accumulated distance\n",
    "traveled_cm = [30, 21, 33, 77, 44, 45, 23, 45, 12, 34, 55]\n",
    "#Here I am going to subtract 20cm directly from each position on the list to calculate the progress per day\n",
    "traveled_day = [n-20 for n in traveled_cm]\n",
    "acumulated_distance=0\n",
    "# Assign 0 to the variable that represents the solution\n",
    "days=0\n",
    "# Writing the code that solves the problem\n",
    "for num in range(len(traveled_day)):\n",
    "    if traveled_day[num]<125:\n",
    "        acumulated_distance=acumulated_distance+traveled_day[num]\n",
    "    days+=1\n",
    "\n",
    "\n",
    "# Print the result with print('Days =', days)\n",
    "print(\"The Snail takes \",days,\"days to climb the well\\n\")\n",
    "\n",
    "# What is your maximum displacement in a day? And its minimum?\n",
    "import statistics\n",
    "min_value = min(traveled_day)\n",
    "max_value = max(traveled_day)\n",
    "print('The maximum movement in one day has been:', max_value, \"cm\")\n",
    "print('The minimum displacement in one day has been:', min_value, \"cm\")\n",
    "# What is your average progress?\n",
    "import statistics\n",
    "average = statistics.mean(traveled_day)\n",
    "print(\"The average progress each day is :\",average, \"cm\")\n",
    "# What is the standard deviation of your displacement during the day?\n",
    "import statistics\n",
    "stdev=statistics.pstdev(traveled_day)\n",
    "print(\"The standard deviation of the list is: \" + str(stdev))"
   ]
  }
 ],
 "metadata": {
  "kernelspec": {
   "display_name": "Python 3.7.4 64-bit",
   "language": "python",
   "name": "python3"
  },
  "language_info": {
   "codemirror_mode": {
    "name": "ipython",
    "version": 3
   },
   "file_extension": ".py",
   "mimetype": "text/x-python",
   "name": "python",
   "nbconvert_exporter": "python",
   "pygments_lexer": "ipython3",
   "version": "3.7.4"
  },
  "vscode": {
   "interpreter": {
    "hash": "e447912bd1abc126f1a1b02664d51750c99209b93aa0b1eb72bb880925256d69"
   }
  }
 },
 "nbformat": 4,
 "nbformat_minor": 4
}
